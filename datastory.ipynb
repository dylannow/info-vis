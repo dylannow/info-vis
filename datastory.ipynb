{
 "cells": [
  {
   "cell_type": "code",
   "execution_count": 1,
   "metadata": {},
   "outputs": [],
   "source": [
    "import pandas as pd\n",
    "import plotly.graph_objs as go\n",
    "import plotly.express as px\n",
    "import string"
   ]
  },
  {
   "attachments": {},
   "cell_type": "markdown",
   "metadata": {},
   "source": [
    "# Data story \n",
    "For our data story, we decided to investigate the complex interplay between income\n",
    "disparities and personal choices regarding food and nutrition policies. Using a complete\n",
    "and extensive dataset, we will examine the different correlations that can be made\n",
    "between the consumers’ diet / health and multiple outer factors, like income levels and\n",
    "food prices. Further numbers we will analyze include, for example, physical activity levels\n",
    "and drug use, to understand dietary habits and health outcomes. We will combine our\n",
    "findings and visualize them, with our goal being to inform on the intricate influences on\n",
    "everyday nutritional policies and personal choices regarding dieting and healthier\n",
    "lifestyles."
   ]
  },
  {
   "attachments": {},
   "cell_type": "markdown",
   "metadata": {},
   "source": []
  },
  {
   "cell_type": "code",
   "execution_count": null,
   "metadata": {},
   "outputs": [],
   "source": [
    "yo"
   ]
  }
 ],
 "metadata": {
  "kernelspec": {
   "display_name": "jupyterbook",
   "language": "python",
   "name": "python3"
  },
  "language_info": {
   "codemirror_mode": {
    "name": "ipython",
    "version": 3
   },
   "file_extension": ".py",
   "mimetype": "text/x-python",
   "name": "python",
   "nbconvert_exporter": "python",
   "pygments_lexer": "ipython3",
   "version": "3.11.3"
  },
  "orig_nbformat": 4
 },
 "nbformat": 4,
 "nbformat_minor": 2
}
