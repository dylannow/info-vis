{
 "cells": [
  {
   "attachments": {},
   "cell_type": "markdown",
   "metadata": {},
   "source": [
    "**Food Prices and their Influence on Eating Behavior**\n",
    "\n",
    "A prominent and plain influence on eating behaviour is food prices. When certain foods are cheaper, consumers are more likely to buy those types of foods than other, more expensive ones. \n",
    "The database used in this research, 'Food Prices in Turkey', can help with investigating the extent of this influence. Although its data is not from the United States of America as with our second database, the data can still be preprocessed to fit our research as best as possible."
   ]
  },
  {
   "cell_type": "code",
   "execution_count": 1,
   "metadata": {},
   "outputs": [],
   "source": [
    "import pandas as pd\n",
    "import plotly.graph_objs as go\n",
    "import plotly.express as px\n",
    "import plotly.subplots as sp\n",
    "from plotly.subplots import make_subplots\n",
    "import numpy as np\n",
    "import string"
   ]
  },
  {
   "cell_type": "code",
   "execution_count": 2,
   "metadata": {},
   "outputs": [],
   "source": [
    "db_raw = pd.read_csv(\"train.csv\")\n",
    "db = db_raw[db_raw['Year']==2015]"
   ]
  },
  {
   "attachments": {},
   "cell_type": "markdown",
   "metadata": {},
   "source": [
    "The data from our newly preprocessed dataset now only includes data from 2015, just like our main dataset. Furthermore, designating the different foods within the dataset to their respective food categories results in the following list of categories:\n",
    "\n",
    "- Grains & Potatoes (Rice, Wheat flour, Pasta, Bulgur, Bread (common), Bread (pita), Potatoes) --> carbohydrates\n",
    "\n",
    "- Legumes (Beans (white), Lentils, Chickpeas, Peas (green, dry)) --> carbohydrates, proteins\n",
    "\n",
    "- Fruits & Vegetables (Apples (red), Bananas, Oranges, Tomatoes, Garlic, Onions, Cabbage, Cauliflower, Cucumbers (greenhouse), Spinach, Eggplants) --> vitamines, fibers\n",
    "\n",
    "- Meats (Meat (chicken), Meat (mutton), Meat (veal), Fish (fresh)) --> proteins\n",
    "\n",
    "- Dairy (Milk (pasteurized), Yogurt, Cheese) --> fats, proteins\n",
    "\n",
    "- Sugar --> carbohydrates\n",
    "\n",
    "It is evident that the dataset is only referring to whole foods (not processed), which should be taken into account when viewing our data. Nonetheless, our data is represented in the following diagram:"
   ]
  },
  {
   "cell_type": "code",
   "execution_count": 3,
   "metadata": {},
   "outputs": [
    {
     "data": {
      "application/vnd.plotly.v1+json": {
       "config": {
        "plotlyServerURL": "https://plot.ly"
       },
       "data": [
        {
         "hovertemplate": "%{text}<extra></extra>",
         "marker": {
          "color": "rgb(230, 230, 0)",
          "opacity": 0.7,
          "size": 8,
          "symbol": "circle"
         },
         "mode": "markers",
         "name": "Grains & Carbs",
         "text": [
          "Rice",
          "Wheat flour",
          "Pasta",
          "Bulgur",
          "Bread (common)",
          "Bread (pita)",
          "Potatoes"
         ],
         "type": "scatter",
         "x": [
          "Grains & Carbs",
          "Grains & Carbs",
          "Grains & Carbs",
          "Grains & Carbs",
          "Grains & Carbs",
          "Grains & Carbs",
          "Grains & Carbs"
         ],
         "y": [
          6.43,
          2.67,
          2.94,
          2.68,
          2.98,
          2.31,
          1.54
         ]
        },
        {
         "hovertemplate": "%{text}<extra></extra>",
         "marker": {
          "color": "rgb(140, 35, 35)",
          "opacity": 0.7,
          "size": 8,
          "symbol": "circle"
         },
         "mode": "markers",
         "name": "Legumes",
         "text": [
          "Beans (white)",
          "Lentils",
          "Chickpeas",
          "Peas (green, dry)"
         ],
         "type": "scatter",
         "x": [
          "Legumes",
          "Legumes",
          "Legumes",
          "Legumes"
         ],
         "y": [
          7.29,
          5.79,
          5.67,
          3.17
         ]
        },
        {
         "hovertemplate": "%{text}<extra></extra>",
         "marker": {
          "color": "rgb(0, 100, 0)",
          "opacity": 0.7,
          "size": 8,
          "symbol": "circle"
         },
         "mode": "markers",
         "name": "Fruits & Vegetables",
         "text": [
          "Apples (red)",
          "Bananas",
          "Oranges",
          "Tomatoes",
          "Garlic",
          "Onions",
          "Cabbage",
          "Cauliflower",
          "Cucumbers (greenhouse)",
          "Spinach",
          "Eggplants"
         ],
         "type": "scatter",
         "x": [
          "Fruits & Vegetables",
          "Fruits & Vegetables",
          "Fruits & Vegetables",
          "Fruits & Vegetables",
          "Fruits & Vegetables",
          "Fruits & Vegetables",
          "Fruits & Vegetables",
          "Fruits & Vegetables",
          "Fruits & Vegetables",
          "Fruits & Vegetables",
          "Fruits & Vegetables"
         ],
         "y": [
          2.4,
          5.37,
          1.71,
          1.93,
          10.94,
          1.38,
          1.2,
          2.77,
          1.98,
          2.66,
          1.92
         ]
        },
        {
         "hovertemplate": "%{text}<extra></extra>",
         "marker": {
          "color": "rgb(200, 0, 0)",
          "opacity": 0.7,
          "size": 8,
          "symbol": "circle"
         },
         "mode": "markers",
         "name": "Meats",
         "text": [
          "Meat (chicken)",
          "Meat (mutton)",
          "Meat (veal)",
          "Fish (fresh)"
         ],
         "type": "scatter",
         "x": [
          "Meats",
          "Meats",
          "Meats",
          "Meats"
         ],
         "y": [
          7.02,
          27,
          33.12,
          14.09
         ]
        },
        {
         "hovertemplate": "%{text}<extra></extra>",
         "marker": {
          "color": "rgb(150, 190, 200)",
          "opacity": 0.7,
          "size": 8,
          "symbol": "circle"
         },
         "mode": "markers",
         "name": "Dairy",
         "text": [
          "Milk (pasteurized)",
          "Yogurt",
          "Cheese"
         ],
         "type": "scatter",
         "x": [
          "Dairy",
          "Dairy",
          "Dairy"
         ],
         "y": [
          2.82,
          3.98,
          15.42
         ]
        },
        {
         "hovertemplate": "%{text}<extra></extra>",
         "marker": {
          "color": "rgb(200, 130, 0)",
          "opacity": 0.7,
          "size": 8,
          "symbol": "circle"
         },
         "mode": "markers",
         "name": "Sugar",
         "text": [
          "Sugar"
         ],
         "type": "scatter",
         "x": [
          "Sugar"
         ],
         "y": [
          3.85
         ]
        },
        {
         "marker": {
          "color": "rgb(255, 255, 0)"
         },
         "name": "Grains & Carbs (Mean)",
         "type": "bar",
         "x": [
          "Grains & Carbs"
         ],
         "y": [
          3.0785714285714287
         ]
        },
        {
         "marker": {
          "color": "rgb(165, 42, 42)"
         },
         "name": "Legumes (Mean)",
         "type": "bar",
         "x": [
          "Legumes"
         ],
         "y": [
          5.48
         ]
        },
        {
         "marker": {
          "color": "rgb(0, 128, 0)"
         },
         "name": "Fruits & Vegetables (Mean)",
         "type": "bar",
         "x": [
          "Fruits & Vegetables"
         ],
         "y": [
          3.1145454545454543
         ]
        },
        {
         "marker": {
          "color": "rgb(255, 0, 0)"
         },
         "name": "Meats (Mean)",
         "type": "bar",
         "x": [
          "Meats"
         ],
         "y": [
          20.3075
         ]
        },
        {
         "marker": {
          "color": "rgb(173, 216, 230)"
         },
         "name": "Dairy (Mean)",
         "type": "bar",
         "x": [
          "Dairy"
         ],
         "y": [
          7.406666666666666
         ]
        },
        {
         "marker": {
          "color": "rgb(255, 165, 0)"
         },
         "name": "Sugar (Mean)",
         "type": "bar",
         "x": [
          "Sugar"
         ],
         "y": [
          3.85
         ]
        }
       ],
       "layout": {
        "barmode": "overlay",
        "height": 400,
        "showlegend": false,
        "template": {
         "data": {
          "bar": [
           {
            "error_x": {
             "color": "#2a3f5f"
            },
            "error_y": {
             "color": "#2a3f5f"
            },
            "marker": {
             "line": {
              "color": "#E5ECF6",
              "width": 0.5
             },
             "pattern": {
              "fillmode": "overlay",
              "size": 10,
              "solidity": 0.2
             }
            },
            "type": "bar"
           }
          ],
          "barpolar": [
           {
            "marker": {
             "line": {
              "color": "#E5ECF6",
              "width": 0.5
             },
             "pattern": {
              "fillmode": "overlay",
              "size": 10,
              "solidity": 0.2
             }
            },
            "type": "barpolar"
           }
          ],
          "carpet": [
           {
            "aaxis": {
             "endlinecolor": "#2a3f5f",
             "gridcolor": "white",
             "linecolor": "white",
             "minorgridcolor": "white",
             "startlinecolor": "#2a3f5f"
            },
            "baxis": {
             "endlinecolor": "#2a3f5f",
             "gridcolor": "white",
             "linecolor": "white",
             "minorgridcolor": "white",
             "startlinecolor": "#2a3f5f"
            },
            "type": "carpet"
           }
          ],
          "choropleth": [
           {
            "colorbar": {
             "outlinewidth": 0,
             "ticks": ""
            },
            "type": "choropleth"
           }
          ],
          "contour": [
           {
            "colorbar": {
             "outlinewidth": 0,
             "ticks": ""
            },
            "colorscale": [
             [
              0,
              "#0d0887"
             ],
             [
              0.1111111111111111,
              "#46039f"
             ],
             [
              0.2222222222222222,
              "#7201a8"
             ],
             [
              0.3333333333333333,
              "#9c179e"
             ],
             [
              0.4444444444444444,
              "#bd3786"
             ],
             [
              0.5555555555555556,
              "#d8576b"
             ],
             [
              0.6666666666666666,
              "#ed7953"
             ],
             [
              0.7777777777777778,
              "#fb9f3a"
             ],
             [
              0.8888888888888888,
              "#fdca26"
             ],
             [
              1,
              "#f0f921"
             ]
            ],
            "type": "contour"
           }
          ],
          "contourcarpet": [
           {
            "colorbar": {
             "outlinewidth": 0,
             "ticks": ""
            },
            "type": "contourcarpet"
           }
          ],
          "heatmap": [
           {
            "colorbar": {
             "outlinewidth": 0,
             "ticks": ""
            },
            "colorscale": [
             [
              0,
              "#0d0887"
             ],
             [
              0.1111111111111111,
              "#46039f"
             ],
             [
              0.2222222222222222,
              "#7201a8"
             ],
             [
              0.3333333333333333,
              "#9c179e"
             ],
             [
              0.4444444444444444,
              "#bd3786"
             ],
             [
              0.5555555555555556,
              "#d8576b"
             ],
             [
              0.6666666666666666,
              "#ed7953"
             ],
             [
              0.7777777777777778,
              "#fb9f3a"
             ],
             [
              0.8888888888888888,
              "#fdca26"
             ],
             [
              1,
              "#f0f921"
             ]
            ],
            "type": "heatmap"
           }
          ],
          "heatmapgl": [
           {
            "colorbar": {
             "outlinewidth": 0,
             "ticks": ""
            },
            "colorscale": [
             [
              0,
              "#0d0887"
             ],
             [
              0.1111111111111111,
              "#46039f"
             ],
             [
              0.2222222222222222,
              "#7201a8"
             ],
             [
              0.3333333333333333,
              "#9c179e"
             ],
             [
              0.4444444444444444,
              "#bd3786"
             ],
             [
              0.5555555555555556,
              "#d8576b"
             ],
             [
              0.6666666666666666,
              "#ed7953"
             ],
             [
              0.7777777777777778,
              "#fb9f3a"
             ],
             [
              0.8888888888888888,
              "#fdca26"
             ],
             [
              1,
              "#f0f921"
             ]
            ],
            "type": "heatmapgl"
           }
          ],
          "histogram": [
           {
            "marker": {
             "pattern": {
              "fillmode": "overlay",
              "size": 10,
              "solidity": 0.2
             }
            },
            "type": "histogram"
           }
          ],
          "histogram2d": [
           {
            "colorbar": {
             "outlinewidth": 0,
             "ticks": ""
            },
            "colorscale": [
             [
              0,
              "#0d0887"
             ],
             [
              0.1111111111111111,
              "#46039f"
             ],
             [
              0.2222222222222222,
              "#7201a8"
             ],
             [
              0.3333333333333333,
              "#9c179e"
             ],
             [
              0.4444444444444444,
              "#bd3786"
             ],
             [
              0.5555555555555556,
              "#d8576b"
             ],
             [
              0.6666666666666666,
              "#ed7953"
             ],
             [
              0.7777777777777778,
              "#fb9f3a"
             ],
             [
              0.8888888888888888,
              "#fdca26"
             ],
             [
              1,
              "#f0f921"
             ]
            ],
            "type": "histogram2d"
           }
          ],
          "histogram2dcontour": [
           {
            "colorbar": {
             "outlinewidth": 0,
             "ticks": ""
            },
            "colorscale": [
             [
              0,
              "#0d0887"
             ],
             [
              0.1111111111111111,
              "#46039f"
             ],
             [
              0.2222222222222222,
              "#7201a8"
             ],
             [
              0.3333333333333333,
              "#9c179e"
             ],
             [
              0.4444444444444444,
              "#bd3786"
             ],
             [
              0.5555555555555556,
              "#d8576b"
             ],
             [
              0.6666666666666666,
              "#ed7953"
             ],
             [
              0.7777777777777778,
              "#fb9f3a"
             ],
             [
              0.8888888888888888,
              "#fdca26"
             ],
             [
              1,
              "#f0f921"
             ]
            ],
            "type": "histogram2dcontour"
           }
          ],
          "mesh3d": [
           {
            "colorbar": {
             "outlinewidth": 0,
             "ticks": ""
            },
            "type": "mesh3d"
           }
          ],
          "parcoords": [
           {
            "line": {
             "colorbar": {
              "outlinewidth": 0,
              "ticks": ""
             }
            },
            "type": "parcoords"
           }
          ],
          "pie": [
           {
            "automargin": true,
            "type": "pie"
           }
          ],
          "scatter": [
           {
            "fillpattern": {
             "fillmode": "overlay",
             "size": 10,
             "solidity": 0.2
            },
            "type": "scatter"
           }
          ],
          "scatter3d": [
           {
            "line": {
             "colorbar": {
              "outlinewidth": 0,
              "ticks": ""
             }
            },
            "marker": {
             "colorbar": {
              "outlinewidth": 0,
              "ticks": ""
             }
            },
            "type": "scatter3d"
           }
          ],
          "scattercarpet": [
           {
            "marker": {
             "colorbar": {
              "outlinewidth": 0,
              "ticks": ""
             }
            },
            "type": "scattercarpet"
           }
          ],
          "scattergeo": [
           {
            "marker": {
             "colorbar": {
              "outlinewidth": 0,
              "ticks": ""
             }
            },
            "type": "scattergeo"
           }
          ],
          "scattergl": [
           {
            "marker": {
             "colorbar": {
              "outlinewidth": 0,
              "ticks": ""
             }
            },
            "type": "scattergl"
           }
          ],
          "scattermapbox": [
           {
            "marker": {
             "colorbar": {
              "outlinewidth": 0,
              "ticks": ""
             }
            },
            "type": "scattermapbox"
           }
          ],
          "scatterpolar": [
           {
            "marker": {
             "colorbar": {
              "outlinewidth": 0,
              "ticks": ""
             }
            },
            "type": "scatterpolar"
           }
          ],
          "scatterpolargl": [
           {
            "marker": {
             "colorbar": {
              "outlinewidth": 0,
              "ticks": ""
             }
            },
            "type": "scatterpolargl"
           }
          ],
          "scatterternary": [
           {
            "marker": {
             "colorbar": {
              "outlinewidth": 0,
              "ticks": ""
             }
            },
            "type": "scatterternary"
           }
          ],
          "surface": [
           {
            "colorbar": {
             "outlinewidth": 0,
             "ticks": ""
            },
            "colorscale": [
             [
              0,
              "#0d0887"
             ],
             [
              0.1111111111111111,
              "#46039f"
             ],
             [
              0.2222222222222222,
              "#7201a8"
             ],
             [
              0.3333333333333333,
              "#9c179e"
             ],
             [
              0.4444444444444444,
              "#bd3786"
             ],
             [
              0.5555555555555556,
              "#d8576b"
             ],
             [
              0.6666666666666666,
              "#ed7953"
             ],
             [
              0.7777777777777778,
              "#fb9f3a"
             ],
             [
              0.8888888888888888,
              "#fdca26"
             ],
             [
              1,
              "#f0f921"
             ]
            ],
            "type": "surface"
           }
          ],
          "table": [
           {
            "cells": {
             "fill": {
              "color": "#EBF0F8"
             },
             "line": {
              "color": "white"
             }
            },
            "header": {
             "fill": {
              "color": "#C8D4E3"
             },
             "line": {
              "color": "white"
             }
            },
            "type": "table"
           }
          ]
         },
         "layout": {
          "annotationdefaults": {
           "arrowcolor": "#2a3f5f",
           "arrowhead": 0,
           "arrowwidth": 1
          },
          "autotypenumbers": "strict",
          "coloraxis": {
           "colorbar": {
            "outlinewidth": 0,
            "ticks": ""
           }
          },
          "colorscale": {
           "diverging": [
            [
             0,
             "#8e0152"
            ],
            [
             0.1,
             "#c51b7d"
            ],
            [
             0.2,
             "#de77ae"
            ],
            [
             0.3,
             "#f1b6da"
            ],
            [
             0.4,
             "#fde0ef"
            ],
            [
             0.5,
             "#f7f7f7"
            ],
            [
             0.6,
             "#e6f5d0"
            ],
            [
             0.7,
             "#b8e186"
            ],
            [
             0.8,
             "#7fbc41"
            ],
            [
             0.9,
             "#4d9221"
            ],
            [
             1,
             "#276419"
            ]
           ],
           "sequential": [
            [
             0,
             "#0d0887"
            ],
            [
             0.1111111111111111,
             "#46039f"
            ],
            [
             0.2222222222222222,
             "#7201a8"
            ],
            [
             0.3333333333333333,
             "#9c179e"
            ],
            [
             0.4444444444444444,
             "#bd3786"
            ],
            [
             0.5555555555555556,
             "#d8576b"
            ],
            [
             0.6666666666666666,
             "#ed7953"
            ],
            [
             0.7777777777777778,
             "#fb9f3a"
            ],
            [
             0.8888888888888888,
             "#fdca26"
            ],
            [
             1,
             "#f0f921"
            ]
           ],
           "sequentialminus": [
            [
             0,
             "#0d0887"
            ],
            [
             0.1111111111111111,
             "#46039f"
            ],
            [
             0.2222222222222222,
             "#7201a8"
            ],
            [
             0.3333333333333333,
             "#9c179e"
            ],
            [
             0.4444444444444444,
             "#bd3786"
            ],
            [
             0.5555555555555556,
             "#d8576b"
            ],
            [
             0.6666666666666666,
             "#ed7953"
            ],
            [
             0.7777777777777778,
             "#fb9f3a"
            ],
            [
             0.8888888888888888,
             "#fdca26"
            ],
            [
             1,
             "#f0f921"
            ]
           ]
          },
          "colorway": [
           "#636efa",
           "#EF553B",
           "#00cc96",
           "#ab63fa",
           "#FFA15A",
           "#19d3f3",
           "#FF6692",
           "#B6E880",
           "#FF97FF",
           "#FECB52"
          ],
          "font": {
           "color": "#2a3f5f"
          },
          "geo": {
           "bgcolor": "white",
           "lakecolor": "white",
           "landcolor": "#E5ECF6",
           "showlakes": true,
           "showland": true,
           "subunitcolor": "white"
          },
          "hoverlabel": {
           "align": "left"
          },
          "hovermode": "closest",
          "mapbox": {
           "style": "light"
          },
          "paper_bgcolor": "white",
          "plot_bgcolor": "#E5ECF6",
          "polar": {
           "angularaxis": {
            "gridcolor": "white",
            "linecolor": "white",
            "ticks": ""
           },
           "bgcolor": "#E5ECF6",
           "radialaxis": {
            "gridcolor": "white",
            "linecolor": "white",
            "ticks": ""
           }
          },
          "scene": {
           "xaxis": {
            "backgroundcolor": "#E5ECF6",
            "gridcolor": "white",
            "gridwidth": 2,
            "linecolor": "white",
            "showbackground": true,
            "ticks": "",
            "zerolinecolor": "white"
           },
           "yaxis": {
            "backgroundcolor": "#E5ECF6",
            "gridcolor": "white",
            "gridwidth": 2,
            "linecolor": "white",
            "showbackground": true,
            "ticks": "",
            "zerolinecolor": "white"
           },
           "zaxis": {
            "backgroundcolor": "#E5ECF6",
            "gridcolor": "white",
            "gridwidth": 2,
            "linecolor": "white",
            "showbackground": true,
            "ticks": "",
            "zerolinecolor": "white"
           }
          },
          "shapedefaults": {
           "line": {
            "color": "#2a3f5f"
           }
          },
          "ternary": {
           "aaxis": {
            "gridcolor": "white",
            "linecolor": "white",
            "ticks": ""
           },
           "baxis": {
            "gridcolor": "white",
            "linecolor": "white",
            "ticks": ""
           },
           "bgcolor": "#E5ECF6",
           "caxis": {
            "gridcolor": "white",
            "linecolor": "white",
            "ticks": ""
           }
          },
          "title": {
           "x": 0.05
          },
          "xaxis": {
           "automargin": true,
           "gridcolor": "white",
           "linecolor": "white",
           "ticks": "",
           "title": {
            "standoff": 15
           },
           "zerolinecolor": "white",
           "zerolinewidth": 2
          },
          "yaxis": {
           "automargin": true,
           "gridcolor": "white",
           "linecolor": "white",
           "ticks": "",
           "title": {
            "standoff": 15
           },
           "zerolinecolor": "white",
           "zerolinewidth": 2
          }
         }
        },
        "title": {
         "text": "Average Prices of Different Foods in the USA, 2015"
        },
        "width": 750,
        "xaxis": {
         "title": {
          "text": "Food Categories"
         }
        },
        "yaxis": {
         "title": {
          "text": "Average Price in 2015 ($ per kg)"
         }
        }
       }
      }
     },
     "metadata": {},
     "output_type": "display_data"
    },
    {
     "data": {
      "application/vnd.plotly.v1+json": {
       "config": {
        "plotlyServerURL": "https://plot.ly"
       },
       "data": [
        {
         "labels": [
          "Grains & Carbs",
          "Legumes",
          "Fruits & Vegetables",
          "Meats & Other",
          "Dairy",
          "Sugar"
         ],
         "marker": {
          "colors": [
           "yellow",
           "brown",
           "green",
           "red",
           "lightblue",
           "orange"
          ]
         },
         "type": "pie",
         "values": [
          20,
          20,
          50,
          15,
          15,
          5
         ]
        }
       ],
       "layout": {
        "height": 400,
        "template": {
         "data": {
          "bar": [
           {
            "error_x": {
             "color": "#2a3f5f"
            },
            "error_y": {
             "color": "#2a3f5f"
            },
            "marker": {
             "line": {
              "color": "#E5ECF6",
              "width": 0.5
             },
             "pattern": {
              "fillmode": "overlay",
              "size": 10,
              "solidity": 0.2
             }
            },
            "type": "bar"
           }
          ],
          "barpolar": [
           {
            "marker": {
             "line": {
              "color": "#E5ECF6",
              "width": 0.5
             },
             "pattern": {
              "fillmode": "overlay",
              "size": 10,
              "solidity": 0.2
             }
            },
            "type": "barpolar"
           }
          ],
          "carpet": [
           {
            "aaxis": {
             "endlinecolor": "#2a3f5f",
             "gridcolor": "white",
             "linecolor": "white",
             "minorgridcolor": "white",
             "startlinecolor": "#2a3f5f"
            },
            "baxis": {
             "endlinecolor": "#2a3f5f",
             "gridcolor": "white",
             "linecolor": "white",
             "minorgridcolor": "white",
             "startlinecolor": "#2a3f5f"
            },
            "type": "carpet"
           }
          ],
          "choropleth": [
           {
            "colorbar": {
             "outlinewidth": 0,
             "ticks": ""
            },
            "type": "choropleth"
           }
          ],
          "contour": [
           {
            "colorbar": {
             "outlinewidth": 0,
             "ticks": ""
            },
            "colorscale": [
             [
              0,
              "#0d0887"
             ],
             [
              0.1111111111111111,
              "#46039f"
             ],
             [
              0.2222222222222222,
              "#7201a8"
             ],
             [
              0.3333333333333333,
              "#9c179e"
             ],
             [
              0.4444444444444444,
              "#bd3786"
             ],
             [
              0.5555555555555556,
              "#d8576b"
             ],
             [
              0.6666666666666666,
              "#ed7953"
             ],
             [
              0.7777777777777778,
              "#fb9f3a"
             ],
             [
              0.8888888888888888,
              "#fdca26"
             ],
             [
              1,
              "#f0f921"
             ]
            ],
            "type": "contour"
           }
          ],
          "contourcarpet": [
           {
            "colorbar": {
             "outlinewidth": 0,
             "ticks": ""
            },
            "type": "contourcarpet"
           }
          ],
          "heatmap": [
           {
            "colorbar": {
             "outlinewidth": 0,
             "ticks": ""
            },
            "colorscale": [
             [
              0,
              "#0d0887"
             ],
             [
              0.1111111111111111,
              "#46039f"
             ],
             [
              0.2222222222222222,
              "#7201a8"
             ],
             [
              0.3333333333333333,
              "#9c179e"
             ],
             [
              0.4444444444444444,
              "#bd3786"
             ],
             [
              0.5555555555555556,
              "#d8576b"
             ],
             [
              0.6666666666666666,
              "#ed7953"
             ],
             [
              0.7777777777777778,
              "#fb9f3a"
             ],
             [
              0.8888888888888888,
              "#fdca26"
             ],
             [
              1,
              "#f0f921"
             ]
            ],
            "type": "heatmap"
           }
          ],
          "heatmapgl": [
           {
            "colorbar": {
             "outlinewidth": 0,
             "ticks": ""
            },
            "colorscale": [
             [
              0,
              "#0d0887"
             ],
             [
              0.1111111111111111,
              "#46039f"
             ],
             [
              0.2222222222222222,
              "#7201a8"
             ],
             [
              0.3333333333333333,
              "#9c179e"
             ],
             [
              0.4444444444444444,
              "#bd3786"
             ],
             [
              0.5555555555555556,
              "#d8576b"
             ],
             [
              0.6666666666666666,
              "#ed7953"
             ],
             [
              0.7777777777777778,
              "#fb9f3a"
             ],
             [
              0.8888888888888888,
              "#fdca26"
             ],
             [
              1,
              "#f0f921"
             ]
            ],
            "type": "heatmapgl"
           }
          ],
          "histogram": [
           {
            "marker": {
             "pattern": {
              "fillmode": "overlay",
              "size": 10,
              "solidity": 0.2
             }
            },
            "type": "histogram"
           }
          ],
          "histogram2d": [
           {
            "colorbar": {
             "outlinewidth": 0,
             "ticks": ""
            },
            "colorscale": [
             [
              0,
              "#0d0887"
             ],
             [
              0.1111111111111111,
              "#46039f"
             ],
             [
              0.2222222222222222,
              "#7201a8"
             ],
             [
              0.3333333333333333,
              "#9c179e"
             ],
             [
              0.4444444444444444,
              "#bd3786"
             ],
             [
              0.5555555555555556,
              "#d8576b"
             ],
             [
              0.6666666666666666,
              "#ed7953"
             ],
             [
              0.7777777777777778,
              "#fb9f3a"
             ],
             [
              0.8888888888888888,
              "#fdca26"
             ],
             [
              1,
              "#f0f921"
             ]
            ],
            "type": "histogram2d"
           }
          ],
          "histogram2dcontour": [
           {
            "colorbar": {
             "outlinewidth": 0,
             "ticks": ""
            },
            "colorscale": [
             [
              0,
              "#0d0887"
             ],
             [
              0.1111111111111111,
              "#46039f"
             ],
             [
              0.2222222222222222,
              "#7201a8"
             ],
             [
              0.3333333333333333,
              "#9c179e"
             ],
             [
              0.4444444444444444,
              "#bd3786"
             ],
             [
              0.5555555555555556,
              "#d8576b"
             ],
             [
              0.6666666666666666,
              "#ed7953"
             ],
             [
              0.7777777777777778,
              "#fb9f3a"
             ],
             [
              0.8888888888888888,
              "#fdca26"
             ],
             [
              1,
              "#f0f921"
             ]
            ],
            "type": "histogram2dcontour"
           }
          ],
          "mesh3d": [
           {
            "colorbar": {
             "outlinewidth": 0,
             "ticks": ""
            },
            "type": "mesh3d"
           }
          ],
          "parcoords": [
           {
            "line": {
             "colorbar": {
              "outlinewidth": 0,
              "ticks": ""
             }
            },
            "type": "parcoords"
           }
          ],
          "pie": [
           {
            "automargin": true,
            "type": "pie"
           }
          ],
          "scatter": [
           {
            "fillpattern": {
             "fillmode": "overlay",
             "size": 10,
             "solidity": 0.2
            },
            "type": "scatter"
           }
          ],
          "scatter3d": [
           {
            "line": {
             "colorbar": {
              "outlinewidth": 0,
              "ticks": ""
             }
            },
            "marker": {
             "colorbar": {
              "outlinewidth": 0,
              "ticks": ""
             }
            },
            "type": "scatter3d"
           }
          ],
          "scattercarpet": [
           {
            "marker": {
             "colorbar": {
              "outlinewidth": 0,
              "ticks": ""
             }
            },
            "type": "scattercarpet"
           }
          ],
          "scattergeo": [
           {
            "marker": {
             "colorbar": {
              "outlinewidth": 0,
              "ticks": ""
             }
            },
            "type": "scattergeo"
           }
          ],
          "scattergl": [
           {
            "marker": {
             "colorbar": {
              "outlinewidth": 0,
              "ticks": ""
             }
            },
            "type": "scattergl"
           }
          ],
          "scattermapbox": [
           {
            "marker": {
             "colorbar": {
              "outlinewidth": 0,
              "ticks": ""
             }
            },
            "type": "scattermapbox"
           }
          ],
          "scatterpolar": [
           {
            "marker": {
             "colorbar": {
              "outlinewidth": 0,
              "ticks": ""
             }
            },
            "type": "scatterpolar"
           }
          ],
          "scatterpolargl": [
           {
            "marker": {
             "colorbar": {
              "outlinewidth": 0,
              "ticks": ""
             }
            },
            "type": "scatterpolargl"
           }
          ],
          "scatterternary": [
           {
            "marker": {
             "colorbar": {
              "outlinewidth": 0,
              "ticks": ""
             }
            },
            "type": "scatterternary"
           }
          ],
          "surface": [
           {
            "colorbar": {
             "outlinewidth": 0,
             "ticks": ""
            },
            "colorscale": [
             [
              0,
              "#0d0887"
             ],
             [
              0.1111111111111111,
              "#46039f"
             ],
             [
              0.2222222222222222,
              "#7201a8"
             ],
             [
              0.3333333333333333,
              "#9c179e"
             ],
             [
              0.4444444444444444,
              "#bd3786"
             ],
             [
              0.5555555555555556,
              "#d8576b"
             ],
             [
              0.6666666666666666,
              "#ed7953"
             ],
             [
              0.7777777777777778,
              "#fb9f3a"
             ],
             [
              0.8888888888888888,
              "#fdca26"
             ],
             [
              1,
              "#f0f921"
             ]
            ],
            "type": "surface"
           }
          ],
          "table": [
           {
            "cells": {
             "fill": {
              "color": "#EBF0F8"
             },
             "line": {
              "color": "white"
             }
            },
            "header": {
             "fill": {
              "color": "#C8D4E3"
             },
             "line": {
              "color": "white"
             }
            },
            "type": "table"
           }
          ]
         },
         "layout": {
          "annotationdefaults": {
           "arrowcolor": "#2a3f5f",
           "arrowhead": 0,
           "arrowwidth": 1
          },
          "autotypenumbers": "strict",
          "coloraxis": {
           "colorbar": {
            "outlinewidth": 0,
            "ticks": ""
           }
          },
          "colorscale": {
           "diverging": [
            [
             0,
             "#8e0152"
            ],
            [
             0.1,
             "#c51b7d"
            ],
            [
             0.2,
             "#de77ae"
            ],
            [
             0.3,
             "#f1b6da"
            ],
            [
             0.4,
             "#fde0ef"
            ],
            [
             0.5,
             "#f7f7f7"
            ],
            [
             0.6,
             "#e6f5d0"
            ],
            [
             0.7,
             "#b8e186"
            ],
            [
             0.8,
             "#7fbc41"
            ],
            [
             0.9,
             "#4d9221"
            ],
            [
             1,
             "#276419"
            ]
           ],
           "sequential": [
            [
             0,
             "#0d0887"
            ],
            [
             0.1111111111111111,
             "#46039f"
            ],
            [
             0.2222222222222222,
             "#7201a8"
            ],
            [
             0.3333333333333333,
             "#9c179e"
            ],
            [
             0.4444444444444444,
             "#bd3786"
            ],
            [
             0.5555555555555556,
             "#d8576b"
            ],
            [
             0.6666666666666666,
             "#ed7953"
            ],
            [
             0.7777777777777778,
             "#fb9f3a"
            ],
            [
             0.8888888888888888,
             "#fdca26"
            ],
            [
             1,
             "#f0f921"
            ]
           ],
           "sequentialminus": [
            [
             0,
             "#0d0887"
            ],
            [
             0.1111111111111111,
             "#46039f"
            ],
            [
             0.2222222222222222,
             "#7201a8"
            ],
            [
             0.3333333333333333,
             "#9c179e"
            ],
            [
             0.4444444444444444,
             "#bd3786"
            ],
            [
             0.5555555555555556,
             "#d8576b"
            ],
            [
             0.6666666666666666,
             "#ed7953"
            ],
            [
             0.7777777777777778,
             "#fb9f3a"
            ],
            [
             0.8888888888888888,
             "#fdca26"
            ],
            [
             1,
             "#f0f921"
            ]
           ]
          },
          "colorway": [
           "#636efa",
           "#EF553B",
           "#00cc96",
           "#ab63fa",
           "#FFA15A",
           "#19d3f3",
           "#FF6692",
           "#B6E880",
           "#FF97FF",
           "#FECB52"
          ],
          "font": {
           "color": "#2a3f5f"
          },
          "geo": {
           "bgcolor": "white",
           "lakecolor": "white",
           "landcolor": "#E5ECF6",
           "showlakes": true,
           "showland": true,
           "subunitcolor": "white"
          },
          "hoverlabel": {
           "align": "left"
          },
          "hovermode": "closest",
          "mapbox": {
           "style": "light"
          },
          "paper_bgcolor": "white",
          "plot_bgcolor": "#E5ECF6",
          "polar": {
           "angularaxis": {
            "gridcolor": "white",
            "linecolor": "white",
            "ticks": ""
           },
           "bgcolor": "#E5ECF6",
           "radialaxis": {
            "gridcolor": "white",
            "linecolor": "white",
            "ticks": ""
           }
          },
          "scene": {
           "xaxis": {
            "backgroundcolor": "#E5ECF6",
            "gridcolor": "white",
            "gridwidth": 2,
            "linecolor": "white",
            "showbackground": true,
            "ticks": "",
            "zerolinecolor": "white"
           },
           "yaxis": {
            "backgroundcolor": "#E5ECF6",
            "gridcolor": "white",
            "gridwidth": 2,
            "linecolor": "white",
            "showbackground": true,
            "ticks": "",
            "zerolinecolor": "white"
           },
           "zaxis": {
            "backgroundcolor": "#E5ECF6",
            "gridcolor": "white",
            "gridwidth": 2,
            "linecolor": "white",
            "showbackground": true,
            "ticks": "",
            "zerolinecolor": "white"
           }
          },
          "shapedefaults": {
           "line": {
            "color": "#2a3f5f"
           }
          },
          "ternary": {
           "aaxis": {
            "gridcolor": "white",
            "linecolor": "white",
            "ticks": ""
           },
           "baxis": {
            "gridcolor": "white",
            "linecolor": "white",
            "ticks": ""
           },
           "bgcolor": "#E5ECF6",
           "caxis": {
            "gridcolor": "white",
            "linecolor": "white",
            "ticks": ""
           }
          },
          "title": {
           "x": 0.05
          },
          "xaxis": {
           "automargin": true,
           "gridcolor": "white",
           "linecolor": "white",
           "ticks": "",
           "title": {
            "standoff": 15
           },
           "zerolinecolor": "white",
           "zerolinewidth": 2
          },
          "yaxis": {
           "automargin": true,
           "gridcolor": "white",
           "linecolor": "white",
           "ticks": "",
           "title": {
            "standoff": 15
           },
           "zerolinecolor": "white",
           "zerolinewidth": 2
          }
         }
        },
        "title": {
         "text": "Recommended Nutrition per Food Category"
        },
        "width": 750
       }
      }
     },
     "metadata": {},
     "output_type": "display_data"
    }
   ],
   "source": [
    "data_barchart = {\n",
    "    \"Categories\": [\"Grains & Carbs\", \"Grains & Carbs\", \"Grains & Carbs\", \"Grains & Carbs\", \"Grains & Carbs\", \"Grains & Carbs\", \"Grains & Carbs\",\n",
    "                   \"Legumes\", \"Legumes\", \"Legumes\", \"Legumes\",\n",
    "                   \"Fruits & Vegetables\", \"Fruits & Vegetables\", \"Fruits & Vegetables\", \"Fruits & Vegetables\", \"Fruits & Vegetables\", \"Fruits & Vegetables\", \"Fruits & Vegetables\", \"Fruits & Vegetables\", \"Fruits & Vegetables\", \"Fruits & Vegetables\", \"Fruits & Vegetables\",\n",
    "                   \"Meats\", \"Meats\", \"Meats\", \"Meats\",\n",
    "                   \"Dairy\", \"Dairy\", \"Dairy\", \"Sugar\"],\n",
    "    \"Subcategories\": [\"Rice\", \"Wheat flour\", \"Pasta\", \"Bulgur\", \"Bread (common)\", \"Bread (pita)\", \"Potatoes\",\n",
    "                      \"Beans (white)\", \"Lentils\", \"Chickpeas\", \"Peas (green, dry)\",\n",
    "                      \"Apples (red)\", \"Bananas\", \"Oranges\", \"Tomatoes\", \"Garlic\", \"Onions\", \"Cabbage\", \"Cauliflower\", \"Cucumbers (greenhouse)\", \"Spinach\", \"Eggplants\",\n",
    "                      \"Meat (chicken)\", \"Meat (mutton)\", \"Meat (veal)\", \"Fish (fresh)\",\n",
    "                      \"Milk (pasteurized)\", \"Yogurt\", \"Cheese\", \"Sugar\"],\n",
    "    \"Prices\": [6.43, 2.67, 2.94, 2.68, 2.98, 2.31, 1.54,\n",
    "               7.29, 5.79, 5.67, 3.17,\n",
    "               2.4, 5.37, 1.71, 1.93, 10.94, 1.38, 1.2, 2.77, 1.98, 2.66, 1.92,\n",
    "               7.02, 27.0, 33.12, 14.09,\n",
    "               2.82, 3.98, 15.42, 3.85]\n",
    "}\n",
    "\n",
    "data_piechart = {\n",
    "    \"Categories\": [\"Grains & Carbs\", \"Legumes\", \"Fruits & Vegetables\", \"Meats & Other\", \"Dairy\", \"Sugar\"],\n",
    "    \"Total averages\": [3.24, 6.01, 3.45, 16.32, 6.53, 3.85],\n",
    "    \"Ideal Percentages\": [20, 20, 50, 15, 15, 5],\n",
    "    \"Colors\": [\"yellow\", \"brown\", \"green\", \"red\", \"lightblue\", \"orange\"]\n",
    "}\n",
    "\n",
    "df_bar = pd.DataFrame(data_barchart)\n",
    "df_pie = pd.DataFrame(data_piechart)\n",
    "\n",
    "color_map1 = {\n",
    "    \"Grains & Carbs\": \"rgb(230, 230, 0)\",\n",
    "    \"Legumes\": \"rgb(140, 35, 35)\",\n",
    "    \"Fruits & Vegetables\": \"rgb(0, 100, 0)\",\n",
    "    \"Meats\": \"rgb(200, 0, 0)\",\n",
    "    \"Dairy\": \"rgb(150, 190, 200)\",\n",
    "    \"Sugar\": \"rgb(200, 130, 0)\"\n",
    "}\n",
    "\n",
    "color_map2 = {\n",
    "    \"Grains & Carbs\": \"rgb(255, 255, 0)\",\n",
    "    \"Legumes\": \"rgb(165, 42, 42)\",\n",
    "    \"Fruits & Vegetables\": \"rgb(0, 128, 0)\",\n",
    "    \"Meats\": \"rgb(255, 0, 0)\",\n",
    "    \"Dairy\": \"rgb(173, 216, 230)\",\n",
    "    \"Sugar\": \"rgb(255, 165, 0)\"\n",
    "}\n",
    "\n",
    "df_mean = df_bar.groupby(\"Categories\")[\"Prices\"].mean().reset_index()\n",
    "\n",
    "scatter_fig = go.Figure()\n",
    "\n",
    "for category, color in color_map1.items():\n",
    "    category_data = df_bar[df_bar[\"Categories\"] == category]\n",
    "    scatter_fig.add_trace(\n",
    "        go.Scatter(\n",
    "            x = category_data[\"Categories\"],\n",
    "            y = category_data[\"Prices\"],\n",
    "            mode = \"markers\",\n",
    "            marker = dict(\n",
    "                color = color,\n",
    "                symbol = \"circle\",\n",
    "                size = 8,\n",
    "                opacity = 0.7\n",
    "            ),\n",
    "            name = category,\n",
    "            hovertemplate = \"%{text}<extra></extra>\",\n",
    "            text = category_data[\"Subcategories\"]\n",
    "        )\n",
    "    )\n",
    "\n",
    "bar_fig = go.Figure()\n",
    "\n",
    "for category, color in color_map2.items():\n",
    "    category_mean = df_mean[df_mean[\"Categories\"] == category]\n",
    "    bar_fig.add_trace(\n",
    "        go.Bar(\n",
    "            x = category_mean[\"Categories\"],\n",
    "            y = category_mean[\"Prices\"],\n",
    "            marker = dict(\n",
    "                color = color\n",
    "            ),\n",
    "            name = f\"{category} (Mean)\",\n",
    "        )\n",
    "    )\n",
    "\n",
    "combined_fig = go.Figure(data = scatter_fig.data + bar_fig.data)\n",
    "\n",
    "combined_fig.update_layout(\n",
    "    title = \"Average Prices of Different Foods in the USA, 2015\",\n",
    "    barmode = \"overlay\",\n",
    "    xaxis = {\"title\": \"Food Categories\"},\n",
    "    yaxis = {\"title\": \"Average Price in 2015 ($ per kg)\"},\n",
    "    height = 400,\n",
    "    width = 750,\n",
    "    showlegend = False\n",
    ")\n",
    "\n",
    "combined_fig.show()\n",
    "\n",
    "pie_fig = go.Figure()\n",
    "\n",
    "pie_fig.add_trace(\n",
    "    go.Pie(labels = df_pie[\"Categories\"], values = df_pie[\"Ideal Percentages\"], marker = dict(colors = df_pie[\"Colors\"]))\n",
    ")\n",
    "\n",
    "pie_fig.update_layout(\n",
    "    title = \"Recommended Nutrition per Food Category\",\n",
    "    height = 400,\n",
    "    width = 750\n",
    ")\n",
    "\n",
    "pie_fig.show()"
   ]
  },
  {
   "attachments": {},
   "cell_type": "markdown",
   "metadata": {},
   "source": [
    "The most notable statistic from this visualization is the high cost of meat, which is a main source of protein for many. Other sources of proteins and healthy fats such as dairy and legumes are also more expensive than most sources of carbohydrates. Carbohydrates like pasta, potatoes and direct sugars are often eaten in abundance by people who are considered unhealthy. When viewing the recommended nutrition of all food categories, it is significant how carbohydrates and especially sugars should be eaten with some sort of moderation. Prices of vegetables and fruits are fortunately relatively low, but as mentioned before, this data regards whole foods only. Particularly in the USA, processed foods tend to become more expensive with a more healthy 'image', whereas junk food prices remain the same. "
   ]
  }
 ],
 "metadata": {
  "kernelspec": {
   "display_name": "jupyterbook",
   "language": "python",
   "name": "python3"
  },
  "language_info": {
   "codemirror_mode": {
    "name": "ipython",
    "version": 3
   },
   "file_extension": ".py",
   "mimetype": "text/x-python",
   "name": "python",
   "nbconvert_exporter": "python",
   "pygments_lexer": "ipython3",
   "version": "3.11.3"
  },
  "orig_nbformat": 4
 },
 "nbformat": 4,
 "nbformat_minor": 2
}
